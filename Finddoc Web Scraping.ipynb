{
 "cells": [
  {
   "cell_type": "code",
   "execution_count": 13,
   "id": "e14d66e1",
   "metadata": {},
   "outputs": [],
   "source": [
    "from selenium import webdriver\n",
    "import time\n",
    "from selenium.webdriver.support.ui import WebDriverWait \n",
    "from selenium.webdriver.support.ui import Select \n",
    "from selenium.webdriver.support import expected_conditions as EC\n",
    "from selenium.webdriver.common.action_chains import ActionChains\n",
    "from selenium.webdriver.common.keys import Keys\n",
    "from selenium.common.exceptions import NoSuchElementException\n",
    "from selenium.common.exceptions import StaleElementReferenceException\n",
    "from selenium.webdriver.chrome.options import Options\n",
    "import pandas as pd"
   ]
  },
  {
   "cell_type": "code",
   "execution_count": 47,
   "id": "904b8c5c",
   "metadata": {},
   "outputs": [
    {
     "name": "stdout",
     "output_type": "stream",
     "text": [
      "Trial 1 \n",
      "\n",
      "['Health Essences Chinese Medicine Clinic', 'Room 613, 6th Floor, Fook Cheong Building, 63 Hoi Yuen Road, Kwun Tong, Kowloon', '5360 1572']\n",
      "Trial 2 \n",
      "\n",
      "['Tmed Clinic', 'Room 602, Luk Yu Building, 24-26 Stanley Street, Central, Hong Kong', '3583 4624']\n",
      "Trial 3 \n",
      "\n",
      "['As one Chinese Medicine', 'Shop d/e, G/F, 29-37 Wing Kut Street, Sheung Wan', '3188 0987']\n",
      "Trial 4 \n",
      "\n",
      "['SOS Chinese Medicine Clinic (Central)', '7/F, AIE Building, 33 Connaught Road Central, Central', '2148 6828']\n",
      "Trial 5 \n",
      "\n",
      "['SOS Chinese Medicine Clinic (Shatin)', 'Room 1301, Block 1, Grand Central Plaza, Shatin', '2148 6838']\n",
      "Trial 6 \n",
      "\n",
      "['SOS Chinese Medicine Clinic (To Kwa Wan)', '5A Ma Hang Chung Road, To Kwa Wan', '2148 6662']\n",
      "Trial 7 \n",
      "\n",
      "['逸和中醫', 'Units C & D, 13/F, No. 2 Carnarvon Road, Tsim Sha Tsui, Kowloon', '2369 2899']\n",
      "Trial 8 \n",
      "\n",
      "['Grace Chinese Medicine Clinic', 'Shop 5A, 3/F, Lei Tung Commercial Centre, 5 Lei Tung Estate Road, Ap Lei Chau, Hong Kong', '2616 0038']\n",
      "Trial 9 \n",
      "\n",
      "['10 Credence', 'Room 1806, 18/F, Strand 50, Sheung Wan', '3575 9510']\n",
      "Trial 10 \n",
      "\n",
      "['Shun Wa Medical Treatment Center', 'Shop 01, G/F, Qi Bang Building, 29-37 Wai Ching Street, Jordan, Kowloon', '2682 9898']\n",
      "Trial 11 \n",
      "\n",
      "['Chan Ching Man TCM Clinic', 'Room 302, 3/F, Parkes Commercial Centre, 2-8 Parkes Street, Jordan', '6658 8167']\n",
      "Trial 12 \n",
      "\n",
      "['Jupiter TCM Clinic', 'Room 504, CRE Center, 889 Cheung Sha Wan Road, Lai Chi Kok', '5646 9864']\n",
      "Trial 13 \n",
      "\n",
      "[\"Dr. Chan Chi Wai's Clinic\", 'G/F, 61A Reclamation Street, Yau Ma Tei, Kowloon', '2374 1713']\n",
      "Trial 14 \n",
      "\n",
      "['MOONIC', 'Room 702-703, 7/F, Kin Tak Fung Commercial Building, 467-473 Hennessy Road, Causeway Bay', '2972 2197']\n",
      "Trial 15 \n",
      "\n",
      "['Beaming Sun Clinic', 'Room 1307 & 1309, Leighton Centre, 77 Leighton Road, Causeway Bay, Hong Kong', '2330 1118']\n",
      "Trial 16 \n",
      "\n",
      "['Hing Woo Tong Medical Centre', 'Room D, 13/F, European Asian Bank Building, 749 Nathan Road, Mongkok, Kowloon', '6361 6087']\n",
      "Trial 17 \n",
      "\n",
      "['Yuen Tai Chinese Medicine', '178 Des Voeux Road West, Sai Ying Pun, Western District, Hong Kong', '2818 1299']\n"
     ]
    }
   ],
   "source": [
    "options = Options()\n",
    "options.add_argument('--headless=new')\n",
    "driver = webdriver.Chrome(options=options)\n",
    "url = 'https://www.finddoc.com/en/practices?q=%E4%B8%AD%E9%86%AB&page=5'\n",
    "driver.set_window_size(1920, 1080)\n",
    "wait = WebDriverWait(driver, 30)\n",
    "action = webdriver.common.action_chains.ActionChains(driver)\n",
    "\n",
    "driver.get(url)\n",
    "time.sleep(1)\n",
    "looping_index = driver.find_elements('xpath', '/html/body/main/div[2]/div/a')\n",
    "\n",
    "total_list = []\n",
    "\n",
    "for i in range(len(looping_index)):\n",
    "    print(\"Trial\", i+1, \"\\n\")\n",
    "    first = driver.find_element('xpath', f'/html/body/main/div[2]/div/a[{i+1}]/h2').text\n",
    "    first_1 = driver.find_element('xpath', f'/html/body/main/div[2]/div/a[{i+1}]/p').text\n",
    "    website = driver.find_element('xpath', f'/html/body/main/div[2]/div/a[{i+1}]')\n",
    "    website.click()\n",
    "    try:\n",
    "        phone = driver.find_element('xpath', '/html/body/main/div/section[1]/div[1]/ul/li/a/div[2]/span').text\n",
    "        driver.back()\n",
    "        doctor_list = [first, first_1, phone]\n",
    "        total_list.append(doctor_list)\n",
    "        print(doctor_list)\n",
    "    except:\n",
    "        driver.back()\n",
    "        doctor_list = [first, first_1]\n",
    "        total_list.append(doctor_list)\n",
    "        print(doctor_list)"
   ]
  },
  {
   "cell_type": "code",
   "execution_count": 48,
   "id": "3909579a",
   "metadata": {},
   "outputs": [
    {
     "data": {
      "text/plain": [
       "[['Health Essences Chinese Medicine Clinic',\n",
       "  'Room 613, 6th Floor, Fook Cheong Building, 63 Hoi Yuen Road, Kwun Tong, Kowloon',\n",
       "  '5360 1572'],\n",
       " ['Tmed Clinic',\n",
       "  'Room 602, Luk Yu Building, 24-26 Stanley Street, Central, Hong Kong',\n",
       "  '3583 4624'],\n",
       " ['As one Chinese Medicine',\n",
       "  'Shop d/e, G/F, 29-37 Wing Kut Street, Sheung Wan',\n",
       "  '3188 0987'],\n",
       " ['SOS Chinese Medicine Clinic (Central)',\n",
       "  '7/F, AIE Building, 33 Connaught Road Central, Central',\n",
       "  '2148 6828'],\n",
       " ['SOS Chinese Medicine Clinic (Shatin)',\n",
       "  'Room 1301, Block 1, Grand Central Plaza, Shatin',\n",
       "  '2148 6838'],\n",
       " ['SOS Chinese Medicine Clinic (To Kwa Wan)',\n",
       "  '5A Ma Hang Chung Road, To Kwa Wan',\n",
       "  '2148 6662'],\n",
       " ['逸和中醫',\n",
       "  'Units C & D, 13/F, No. 2 Carnarvon Road, Tsim Sha Tsui, Kowloon',\n",
       "  '2369 2899'],\n",
       " ['Grace Chinese Medicine Clinic',\n",
       "  'Shop 5A, 3/F, Lei Tung Commercial Centre, 5 Lei Tung Estate Road, Ap Lei Chau, Hong Kong',\n",
       "  '2616 0038'],\n",
       " ['10 Credence', 'Room 1806, 18/F, Strand 50, Sheung Wan', '3575 9510'],\n",
       " ['Shun Wa Medical Treatment Center',\n",
       "  'Shop 01, G/F, Qi Bang Building, 29-37 Wai Ching Street, Jordan, Kowloon',\n",
       "  '2682 9898'],\n",
       " ['Chan Ching Man TCM Clinic',\n",
       "  'Room 302, 3/F, Parkes Commercial Centre, 2-8 Parkes Street, Jordan',\n",
       "  '6658 8167'],\n",
       " ['Jupiter TCM Clinic',\n",
       "  'Room 504, CRE Center, 889 Cheung Sha Wan Road, Lai Chi Kok',\n",
       "  '5646 9864'],\n",
       " [\"Dr. Chan Chi Wai's Clinic\",\n",
       "  'G/F, 61A Reclamation Street, Yau Ma Tei, Kowloon',\n",
       "  '2374 1713'],\n",
       " ['MOONIC',\n",
       "  'Room 702-703, 7/F, Kin Tak Fung Commercial Building, 467-473 Hennessy Road, Causeway Bay',\n",
       "  '2972 2197'],\n",
       " ['Beaming Sun Clinic',\n",
       "  'Room 1307 & 1309, Leighton Centre, 77 Leighton Road, Causeway Bay, Hong Kong',\n",
       "  '2330 1118'],\n",
       " ['Hing Woo Tong Medical Centre',\n",
       "  'Room D, 13/F, European Asian Bank Building, 749 Nathan Road, Mongkok, Kowloon',\n",
       "  '6361 6087'],\n",
       " ['Yuen Tai Chinese Medicine',\n",
       "  '178 Des Voeux Road West, Sai Ying Pun, Western District, Hong Kong',\n",
       "  '2818 1299']]"
      ]
     },
     "execution_count": 48,
     "metadata": {},
     "output_type": "execute_result"
    }
   ],
   "source": [
    "total_list"
   ]
  },
  {
   "cell_type": "code",
   "execution_count": 49,
   "id": "ab171cf0",
   "metadata": {},
   "outputs": [],
   "source": [
    "columns = ['Clinic Name', 'Address', 'Contact']\n",
    "\n",
    "df = pd.DataFrame(columns=columns)"
   ]
  },
  {
   "cell_type": "code",
   "execution_count": 50,
   "id": "e35a1b43",
   "metadata": {},
   "outputs": [
    {
     "name": "stdout",
     "output_type": "stream",
     "text": [
      "                                 Clinic Name  \\\n",
      "0    Health Essences Chinese Medicine Clinic   \n",
      "1                                Tmed Clinic   \n",
      "2                    As one Chinese Medicine   \n",
      "3      SOS Chinese Medicine Clinic (Central)   \n",
      "4       SOS Chinese Medicine Clinic (Shatin)   \n",
      "5   SOS Chinese Medicine Clinic (To Kwa Wan)   \n",
      "6                                       逸和中醫   \n",
      "7              Grace Chinese Medicine Clinic   \n",
      "8                                10 Credence   \n",
      "9           Shun Wa Medical Treatment Center   \n",
      "10                 Chan Ching Man TCM Clinic   \n",
      "11                        Jupiter TCM Clinic   \n",
      "12                 Dr. Chan Chi Wai's Clinic   \n",
      "13                                    MOONIC   \n",
      "14                        Beaming Sun Clinic   \n",
      "15              Hing Woo Tong Medical Centre   \n",
      "16                 Yuen Tai Chinese Medicine   \n",
      "\n",
      "                                              Address    Contact  \n",
      "0   Room 613, 6th Floor, Fook Cheong Building, 63 ...  5360 1572  \n",
      "1   Room 602, Luk Yu Building, 24-26 Stanley Stree...  3583 4624  \n",
      "2    Shop d/e, G/F, 29-37 Wing Kut Street, Sheung Wan  3188 0987  \n",
      "3   7/F, AIE Building, 33 Connaught Road Central, ...  2148 6828  \n",
      "4     Room 1301, Block 1, Grand Central Plaza, Shatin  2148 6838  \n",
      "5                   5A Ma Hang Chung Road, To Kwa Wan  2148 6662  \n",
      "6   Units C & D, 13/F, No. 2 Carnarvon Road, Tsim ...  2369 2899  \n",
      "7   Shop 5A, 3/F, Lei Tung Commercial Centre, 5 Le...  2616 0038  \n",
      "8              Room 1806, 18/F, Strand 50, Sheung Wan  3575 9510  \n",
      "9   Shop 01, G/F, Qi Bang Building, 29-37 Wai Chin...  2682 9898  \n",
      "10  Room 302, 3/F, Parkes Commercial Centre, 2-8 P...  6658 8167  \n",
      "11  Room 504, CRE Center, 889 Cheung Sha Wan Road,...  5646 9864  \n",
      "12   G/F, 61A Reclamation Street, Yau Ma Tei, Kowloon  2374 1713  \n",
      "13  Room 702-703, 7/F, Kin Tak Fung Commercial Bui...  2972 2197  \n",
      "14  Room 1307 & 1309, Leighton Centre, 77 Leighton...  2330 1118  \n",
      "15  Room D, 13/F, European Asian Bank Building, 74...  6361 6087  \n",
      "16  178 Des Voeux Road West, Sai Ying Pun, Western...  2818 1299  \n"
     ]
    }
   ],
   "source": [
    "df = pd.DataFrame(total_list, columns = columns)\n",
    "print(df)"
   ]
  },
  {
   "cell_type": "code",
   "execution_count": 51,
   "id": "3da344f0",
   "metadata": {},
   "outputs": [],
   "source": [
    "df.to_csv(\"page-5.csv\", index=False)"
   ]
  }
 ],
 "metadata": {
  "kernelspec": {
   "display_name": "Python 3 (ipykernel)",
   "language": "python",
   "name": "python3"
  },
  "language_info": {
   "codemirror_mode": {
    "name": "ipython",
    "version": 3
   },
   "file_extension": ".py",
   "mimetype": "text/x-python",
   "name": "python",
   "nbconvert_exporter": "python",
   "pygments_lexer": "ipython3",
   "version": "3.9.12"
  }
 },
 "nbformat": 4,
 "nbformat_minor": 5
}
