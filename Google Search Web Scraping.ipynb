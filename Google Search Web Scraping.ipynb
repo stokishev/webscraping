{
 "cells": [
  {
   "cell_type": "code",
   "execution_count": 24,
   "id": "c6c17673",
   "metadata": {},
   "outputs": [],
   "source": [
    "import yagooglesearch\n",
    "import pandas as pd\n",
    "import requests\n",
    "import re\n",
    "from urllib.parse import urlparse\n",
    "import json"
   ]
  },
  {
   "cell_type": "code",
   "execution_count": 21,
   "id": "affb5e57",
   "metadata": {},
   "outputs": [],
   "source": [
    "df_phone_search = pd.read_csv(\"CSV File\")"
   ]
  },
  {
   "cell_type": "code",
   "execution_count": 22,
   "id": "d864466e",
   "metadata": {},
   "outputs": [],
   "source": [
    "def extract_domain(url):\n",
    "    parsed_url = urlparse(url)\n",
    "    domain = parsed_url.netloc\n",
    "    if domain.startswith('www.'):\n",
    "        domain = domain[4:]  \n",
    "    return domain"
   ]
  },
  {
   "cell_type": "code",
   "execution_count": 25,
   "id": "a6fbd7c0",
   "metadata": {},
   "outputs": [],
   "source": [
    "df_phone_search['domain'] = df_phone_search['Url'].apply(extract_domain)\n",
    "domain_list = df_phone_search['domain'].tolist()"
   ]
  },
  {
   "cell_type": "code",
   "execution_count": 17,
   "id": "a40e034c",
   "metadata": {},
   "outputs": [],
   "source": [
    "data = pd.DataFrame()"
   ]
  },
  {
   "cell_type": "code",
   "execution_count": null,
   "id": "da76e3cf",
   "metadata": {
    "scrolled": true
   },
   "outputs": [],
   "source": [
    "for k in domain_list:\n",
    "    query = \"site: {} 電話|tel|聯絡|whatsapp\".format(k)\n",
    "\n",
    "    client = yagooglesearch.SearchClient(\n",
    "        query,\n",
    "        tbs=\"li:1\",\n",
    "        max_search_result_urls_to_return=10,\n",
    "        http_429_cool_off_time_in_minutes=45,\n",
    "        http_429_cool_off_factor=1.5,\n",
    "        verbosity=5,\n",
    "        verbose_output=True,  # False (only URLs) or True (rank, title, description, and URL)\n",
    "    )\n",
    "    client.assign_random_user_agent()\n",
    "\n",
    "    urls = client.search()\n",
    "\n",
    "    len(urls)\n",
    "\n",
    "\n",
    "    for url in urls:\n",
    "        print(url)\n",
    "        data = data.append(url, ignore_index=True)"
   ]
  },
  {
   "cell_type": "code",
   "execution_count": 29,
   "id": "59e084cd",
   "metadata": {
    "scrolled": true
   },
   "outputs": [
    {
     "data": {
      "text/html": [
       "<div>\n",
       "<style scoped>\n",
       "    .dataframe tbody tr th:only-of-type {\n",
       "        vertical-align: middle;\n",
       "    }\n",
       "\n",
       "    .dataframe tbody tr th {\n",
       "        vertical-align: top;\n",
       "    }\n",
       "\n",
       "    .dataframe thead th {\n",
       "        text-align: right;\n",
       "    }\n",
       "</style>\n",
       "<table border=\"1\" class=\"dataframe\">\n",
       "  <thead>\n",
       "    <tr style=\"text-align: right;\">\n",
       "      <th></th>\n",
       "      <th>rank</th>\n",
       "      <th>title</th>\n",
       "      <th>description</th>\n",
       "      <th>url</th>\n",
       "    </tr>\n",
       "  </thead>\n",
       "  <tbody>\n",
       "    <tr>\n",
       "      <th>0</th>\n",
       "      <td>1</td>\n",
       "      <td>【Telephone】Buy Dect Phone - Wellent 偉倫  www.we...</td>\n",
       "      <td>Shop for the recommended Telephone and Dect Ph...</td>\n",
       "      <td>https://www.wellent.com/en/categories/36-Telep...</td>\n",
       "    </tr>\n",
       "    <tr>\n",
       "      <th>1</th>\n",
       "      <td>2</td>\n",
       "      <td>Wellent Eshop Opening  www.wellent.com › 669-w...</td>\n",
       "      <td>聯絡我們 ; 辦公室地址: 香港九龍荔枝角青山道479號麗昌工業大廈1樓101 A-B室 ;...</td>\n",
       "      <td>https://www.wellent.com/en/p/669-wellent-eshop...</td>\n",
       "    </tr>\n",
       "    <tr>\n",
       "      <th>2</th>\n",
       "      <td>3</td>\n",
       "      <td>Cordless Dect Phone - Wellent 偉倫  www.wellent....</td>\n",
       "      <td>Tel: 2148 9292 · Email: eshop@wellent.com · Wh...</td>\n",
       "      <td>https://www.wellent.com/en/categories/257-Cord...</td>\n",
       "    </tr>\n",
       "    <tr>\n",
       "      <th>3</th>\n",
       "      <td>4</td>\n",
       "      <td>Panasonic KX-Tgb312 1.4\" LCD 2-Handset Cordles...</td>\n",
       "      <td>HK$515.00   In stock   (1.4吋LCD背光螢幕,50筆英文姓名電話簿...</td>\n",
       "      <td>https://www.wellent.com/en/products/5081-panas...</td>\n",
       "    </tr>\n",
       "    <tr>\n",
       "      <th>4</th>\n",
       "      <td>5</td>\n",
       "      <td>Speaker - 偉倫電腦  www.wellent.com › Peripherals ...</td>\n",
       "      <td>連結WhatsApp 帳號. 打開WhatsApp. 請掃描QRCode 並在聊天室傳送綁定...</td>\n",
       "      <td>https://www.wellent.com/en/categories/301-Speaker</td>\n",
       "    </tr>\n",
       "    <tr>\n",
       "      <th>...</th>\n",
       "      <td>...</td>\n",
       "      <td>...</td>\n",
       "      <td>...</td>\n",
       "      <td>...</td>\n",
       "    </tr>\n",
       "    <tr>\n",
       "      <th>272</th>\n",
       "      <td>6</td>\n",
       "      <td>Instant-ink &gt; Color &gt; Home / Small Business Pr...</td>\n",
       "      <td>Results 1 - 10 of 10 · Shop HP.com Hong Kong S...</td>\n",
       "      <td>https://www.hp.com/hk-en/shop/printers/persona...</td>\n",
       "    </tr>\n",
       "    <tr>\n",
       "      <th>273</th>\n",
       "      <td>7</td>\n",
       "      <td>inkink-clothing.com</td>\n",
       "      <td>2A HYDE PARK MANSION 53 PATERSON STREET CAUSEW...</td>\n",
       "      <td>https://ink-clothing.com/</td>\n",
       "    </tr>\n",
       "    <tr>\n",
       "      <th>274</th>\n",
       "      <td>8</td>\n",
       "      <td>Checkwriterwww.world-trade-hk.com › category ›...</td>\n",
       "      <td>中文ENG. 維修專線: 2861 3823. 專家解答: 3996 3333. Whats...</td>\n",
       "      <td>https://www.world-trade-hk.com/en/category/Che...</td>\n",
       "    </tr>\n",
       "    <tr>\n",
       "      <th>275</th>\n",
       "      <td>9</td>\n",
       "      <td>Peripera Hong Kong Official - Kosmetics Beauty...</td>\n",
       "      <td>Peripera Hong Kong and Macau Official Website ...</td>\n",
       "      <td>https://kosmetics.com.hk/en/collections/peripera</td>\n",
       "    </tr>\n",
       "    <tr>\n",
       "      <th>276</th>\n",
       "      <td>10</td>\n",
       "      <td>Toner &amp; Ink Cartridges Recycling &amp; Reuse Progr...</td>\n",
       "      <td>FoE(HK) started the \"Toner &amp; Ink Cartridges Re...</td>\n",
       "      <td>https://www.foe.org.hk/en/project/Project%20Ac...</td>\n",
       "    </tr>\n",
       "  </tbody>\n",
       "</table>\n",
       "<p>277 rows × 4 columns</p>\n",
       "</div>"
      ],
      "text/plain": [
       "     rank                                              title  \\\n",
       "0       1  【Telephone】Buy Dect Phone - Wellent 偉倫  www.we...   \n",
       "1       2  Wellent Eshop Opening  www.wellent.com › 669-w...   \n",
       "2       3  Cordless Dect Phone - Wellent 偉倫  www.wellent....   \n",
       "3       4  Panasonic KX-Tgb312 1.4\" LCD 2-Handset Cordles...   \n",
       "4       5  Speaker - 偉倫電腦  www.wellent.com › Peripherals ...   \n",
       "..    ...                                                ...   \n",
       "272     6  Instant-ink > Color > Home / Small Business Pr...   \n",
       "273     7                                inkink-clothing.com   \n",
       "274     8  Checkwriterwww.world-trade-hk.com › category ›...   \n",
       "275     9  Peripera Hong Kong Official - Kosmetics Beauty...   \n",
       "276    10  Toner & Ink Cartridges Recycling & Reuse Progr...   \n",
       "\n",
       "                                           description  \\\n",
       "0    Shop for the recommended Telephone and Dect Ph...   \n",
       "1    聯絡我們 ; 辦公室地址: 香港九龍荔枝角青山道479號麗昌工業大廈1樓101 A-B室 ;...   \n",
       "2    Tel: 2148 9292 · Email: eshop@wellent.com · Wh...   \n",
       "3    HK$515.00   In stock   (1.4吋LCD背光螢幕,50筆英文姓名電話簿...   \n",
       "4    連結WhatsApp 帳號. 打開WhatsApp. 請掃描QRCode 並在聊天室傳送綁定...   \n",
       "..                                                 ...   \n",
       "272  Results 1 - 10 of 10 · Shop HP.com Hong Kong S...   \n",
       "273  2A HYDE PARK MANSION 53 PATERSON STREET CAUSEW...   \n",
       "274  中文ENG. 維修專線: 2861 3823. 專家解答: 3996 3333. Whats...   \n",
       "275  Peripera Hong Kong and Macau Official Website ...   \n",
       "276  FoE(HK) started the \"Toner & Ink Cartridges Re...   \n",
       "\n",
       "                                                   url  \n",
       "0    https://www.wellent.com/en/categories/36-Telep...  \n",
       "1    https://www.wellent.com/en/p/669-wellent-eshop...  \n",
       "2    https://www.wellent.com/en/categories/257-Cord...  \n",
       "3    https://www.wellent.com/en/products/5081-panas...  \n",
       "4    https://www.wellent.com/en/categories/301-Speaker  \n",
       "..                                                 ...  \n",
       "272  https://www.hp.com/hk-en/shop/printers/persona...  \n",
       "273                          https://ink-clothing.com/  \n",
       "274  https://www.world-trade-hk.com/en/category/Che...  \n",
       "275   https://kosmetics.com.hk/en/collections/peripera  \n",
       "276  https://www.foe.org.hk/en/project/Project%20Ac...  \n",
       "\n",
       "[277 rows x 4 columns]"
      ]
     },
     "execution_count": 29,
     "metadata": {},
     "output_type": "execute_result"
    }
   ],
   "source": [
    "data"
   ]
  },
  {
   "cell_type": "code",
   "execution_count": 30,
   "id": "16a397c9",
   "metadata": {},
   "outputs": [],
   "source": [
    "data.to_csv('new.csv')"
   ]
  }
 ],
 "metadata": {
  "kernelspec": {
   "display_name": "Python 3 (ipykernel)",
   "language": "python",
   "name": "python3"
  },
  "language_info": {
   "codemirror_mode": {
    "name": "ipython",
    "version": 3
   },
   "file_extension": ".py",
   "mimetype": "text/x-python",
   "name": "python",
   "nbconvert_exporter": "python",
   "pygments_lexer": "ipython3",
   "version": "3.9.12"
  }
 },
 "nbformat": 4,
 "nbformat_minor": 5
}
