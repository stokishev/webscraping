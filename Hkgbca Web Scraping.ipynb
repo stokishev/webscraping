{
 "cells": [
  {
   "cell_type": "code",
   "execution_count": null,
   "id": "e1c59c85",
   "metadata": {},
   "outputs": [],
   "source": [
    "import csv\n",
    "import time\n",
    "from selenium import webdriver\n",
    "from selenium.webdriver.support.ui import WebDriverWait \n",
    "from selenium.webdriver.support.ui import Select \n",
    "from selenium.webdriver.support import expected_conditions as EC\n",
    "from selenium.webdriver.common.action_chains import ActionChains\n",
    "from selenium.webdriver.common.keys import Keys\n",
    "from selenium.common.exceptions import NoSuchElementException\n",
    "from selenium.common.exceptions import StaleElementReferenceException\n",
    "from datetime_selenium import send_datetime\n",
    "from datetime import datetime\n",
    "import pandas as pd\n",
    "from selenium.webdriver.chrome.options import Options"
   ]
  },
  {
   "cell_type": "code",
   "execution_count": null,
   "id": "7d506863",
   "metadata": {},
   "outputs": [],
   "source": [
    "driver = webdriver.Chrome()\n",
    "url = 'http://www.hkgbca.com/showroom/model/T0190/templateCustomWebPage.do?webId=1271096570828000276&editCurrentLanguage=1271096570875000277&customWebPageId=1271145029046004724'\n",
    "driver.maximize_window()\n",
    "wait = WebDriverWait(driver, 30)\n",
    "action = webdriver.common.action_chains.ActionChains(driver)\n",
    "\n",
    "driver.get(url)\n",
    "time.sleep(1)\n",
    "looping_index = driver.find_elements('xpath', '//*[@id=\"Center\"]/tbody/tr/td/table/tbody/tr[2]/td/table/tbody/tr/td/table/tbody/tr/td[2]/p[1]')\n",
    "\n",
    "df_total = []\n",
    "\n",
    "for i in range(len(looping_index)):\n",
    "    chinese_name = driver.find_element('xpath', f'//*[@id=\"Center\"]/tbody/tr/td/table/tbody/tr[2]/td/table/tbody/tr/td/table/tbody/tr[{i+2}]/td[2]/p[1]')\n",
    "    name = driver.find_element('xpath', f'//*[@id=\"Center\"]/tbody/tr/td/table/tbody/tr[2]/td/table/tbody/tr/td/table/tbody/tr[{i+2}]/td[2]/p[2]')\n",
    "    phone = driver.find_element('xpath', f'//*[@id=\"Center\"]/tbody/tr/td/table/tbody/tr[2]/td/table/tbody/tr/td/table/tbody/tr[{i+2}]/td[3]')\n",
    "    second_phone = driver.find_element('xpath', f'//*[@id=\"Center\"]/tbody/tr/td/table/tbody/tr[2]/td/table/tbody/tr/td/table/tbody/tr[{i+2}]/td[4]')\n",
    "    remark = driver.find_element('xpath', f'//*[@id=\"Center\"]/tbody/tr/td/table/tbody/tr[2]/td/table/tbody/tr/td/table/tbody/tr[{i+2}]/td[5]')\n",
    "    some_list = [chinese_name, name, phone, second_phone, remark]\n",
    "    df_total.append(some_list)\n",
    "\n"
   ]
  },
  {
   "cell_type": "code",
   "execution_count": null,
   "id": "9a8b8488",
   "metadata": {},
   "outputs": [],
   "source": [
    "df = pd.DataFrame(df_total, columns = ['公司名稱 Company Name', '聯絡電話', '傳真號碼', '代表人'])"
   ]
  },
  {
   "cell_type": "code",
   "execution_count": null,
   "id": "36df01c4",
   "metadata": {},
   "outputs": [],
   "source": [
    "df.to_csv(\"1st page.csv\", index=False)"
   ]
  }
 ],
 "metadata": {
  "kernelspec": {
   "display_name": "Python 3 (ipykernel)",
   "language": "python",
   "name": "python3"
  },
  "language_info": {
   "codemirror_mode": {
    "name": "ipython",
    "version": 3
   },
   "file_extension": ".py",
   "mimetype": "text/x-python",
   "name": "python",
   "nbconvert_exporter": "python",
   "pygments_lexer": "ipython3",
   "version": "3.9.12"
  }
 },
 "nbformat": 4,
 "nbformat_minor": 5
}
